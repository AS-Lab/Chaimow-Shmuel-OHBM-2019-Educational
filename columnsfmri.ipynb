{
 "cells": [
  {
   "cell_type": "markdown",
   "metadata": {
    "slideshow": {
     "slide_type": "slide"
    }
   },
   "source": [
    "# Demo of `columnsfmri` \n",
    "## Simulation and optimization of fMRI of cortical columns"
   ]
  },
  {
   "cell_type": "markdown",
   "metadata": {
    "slideshow": {
     "slide_type": "slide"
    }
   },
   "source": [
    "Import model implementation from columnsfmri.py and other useful modules."
   ]
  },
  {
   "cell_type": "code",
   "execution_count": null,
   "metadata": {
    "slideshow": {
     "slide_type": "fragment"
    }
   },
   "outputs": [],
   "source": [
    "import columnsfmri\n",
    "\n",
    "%matplotlib inline\n",
    "import numpy as np\n",
    "import importlib\n",
    "import matplotlib.pyplot as plt\n",
    "import seaborn as sns\n",
    "sns.set()"
   ]
  },
  {
   "cell_type": "markdown",
   "metadata": {
    "slideshow": {
     "slide_type": "slide"
    }
   },
   "source": [
    "Inititialize simulation using a 512 x 512 grid on an area of 24 x 24 mm. "
   ]
  },
  {
   "cell_type": "code",
   "execution_count": null,
   "metadata": {
    "slideshow": {
     "slide_type": "fragment"
    }
   },
   "outputs": [],
   "source": [
    "N = 512; L = 24\n",
    "sim = columnsfmri.simulation(N,L)"
   ]
  },
  {
   "cell_type": "markdown",
   "metadata": {
    "slideshow": {
     "slide_type": "slide"
    }
   },
   "source": [
    "Simulate a column pattern by filtering Gaussian white noise. Rho is the main pattern frequency, delta specifies the amount of irregularity."
   ]
  },
  {
   "cell_type": "code",
   "execution_count": null,
   "metadata": {
    "slideshow": {
     "slide_type": "fragment"
    }
   },
   "outputs": [],
   "source": [
    "gwn = sim.gwnoise()\n",
    "rho,deltaRelative = 0.2,1\n",
    "columnPattern = sim.columnPattern(rho,deltaRelative,gwn)\n",
    "sim.plotPattern(columnPattern)"
   ]
  },
  {
   "cell_type": "markdown",
   "metadata": {
    "slideshow": {
     "slide_type": "slide"
    }
   },
   "source": [
    "Simulate a spatial BOLD response with a FWHM of 2 mm, and an average response amplitude of 5%."
   ]
  },
  {
   "cell_type": "code",
   "execution_count": null,
   "metadata": {
    "slideshow": {
     "slide_type": "fragment"
    }
   },
   "outputs": [],
   "source": [
    "fwhm = 2\n",
    "beta = 0.05\n",
    "boldPattern,_,_ = sim.bold(fwhm,beta,columnPattern)\n",
    "sim.plotPattern(boldPattern)"
   ]
  },
  {
   "cell_type": "markdown",
   "metadata": {
    "slideshow": {
     "slide_type": "slide"
    }
   },
   "source": [
    "Simulate MRI sampling using a voxel width of 3 mm. (We first add the relative response pattern to a constant background of 1)."
   ]
  },
  {
   "cell_type": "code",
   "execution_count": null,
   "metadata": {
    "slideshow": {
     "slide_type": "fragment"
    }
   },
   "outputs": [],
   "source": [
    "w = 1\n",
    "mriPattern = sim.mri(w,1+boldPattern)\n",
    "sim.plotVoxels(mriPattern)"
   ]
  },
  {
   "cell_type": "markdown",
   "metadata": {
    "slideshow": {
     "slide_type": "slide"
    }
   },
   "source": [
    "The amount of functional contrast can be quantified as the standard deviation of the imaged responses (contrast range)."
   ]
  },
  {
   "cell_type": "code",
   "execution_count": null,
   "metadata": {
    "slideshow": {
     "slide_type": "fragment"
    }
   },
   "outputs": [],
   "source": [
    "c = np.std(mriPattern)\n",
    "print(str(100*c)+\"%\")"
   ]
  },
  {
   "cell_type": "markdown",
   "metadata": {
    "slideshow": {
     "slide_type": "slide"
    }
   },
   "source": [
    "Simulate the noise level as a function of voxel width."
   ]
  },
  {
   "cell_type": "code",
   "execution_count": null,
   "metadata": {
    "slideshow": {
     "slide_type": "fragment"
    }
   },
   "outputs": [],
   "source": [
    "w = np.linspace(0.1,3,100)\n",
    "V = w**3\n",
    "TR = 2\n",
    "nT = 100\n",
    "differentialFlag = True\n",
    "noiseType = '3T'\n",
    "SNR = 1/columnsfmri.noiseModel(V,TR,nT,differentialFlag,noiseType=noiseType)"
   ]
  },
  {
   "cell_type": "code",
   "execution_count": null,
   "metadata": {
    "scrolled": true,
    "slideshow": {
     "slide_type": "fragment"
    }
   },
   "outputs": [],
   "source": [
    "plt.plot(w,SNR)\n",
    "plt.xlabel('voxel width [mm]')\n",
    "plt.ylabel('multi measurement SNR')\n",
    "plt.title('3T, TR = 2s, nT = 100')\n",
    "plt.show()"
   ]
  },
  {
   "cell_type": "markdown",
   "metadata": {
    "slideshow": {
     "slide_type": "slide"
    }
   },
   "source": [
    "Calculate detection probability from CNR and number of voxels."
   ]
  },
  {
   "cell_type": "code",
   "execution_count": null,
   "metadata": {
    "slideshow": {
     "slide_type": "fragment"
    }
   },
   "outputs": [],
   "source": [
    "CNR = 1\n",
    "nVoxels = 10\n",
    "columnsfmri.detectionProbability(CNR,nVoxels)"
   ]
  },
  {
   "cell_type": "markdown",
   "metadata": {
    "slideshow": {
     "slide_type": "slide"
    }
   },
   "source": [
    "Calculate the correlation between the original and the (interpolated) imaged pattern."
   ]
  },
  {
   "cell_type": "code",
   "execution_count": null,
   "metadata": {
    "slideshow": {
     "slide_type": "fragment"
    }
   },
   "outputs": [],
   "source": [
    "sim.patternCorrelation(columnPattern,mriPattern)"
   ]
  },
  {
   "cell_type": "markdown",
   "metadata": {},
   "source": [
    "Show column pattern, bold response and fMRI image next to each other."
   ]
  },
  {
   "cell_type": "code",
   "execution_count": null,
   "metadata": {
    "slideshow": {
     "slide_type": "slide"
    }
   },
   "outputs": [],
   "source": [
    "sim.plotColumnsBoldMRI(columnPattern,boldPattern,mriPattern)"
   ]
  },
  {
   "cell_type": "code",
   "execution_count": null,
   "metadata": {
    "scrolled": true,
    "slideshow": {
     "slide_type": "slide"
    }
   },
   "outputs": [],
   "source": [
    "from ipywidgets import interactive, interact, interact_manual\n",
    "\n",
    "N = 512; L = 24\n",
    "s = columnsfmri.simulation(N,L)\n",
    "gwn = sim.gwnoise()\n",
    "rho,deltaRelative = 0.5,0.5\n",
    "fwhm = 2\n",
    "beta = 0.05\n",
    "w = 1\n",
    "\n",
    "def f(rho,deltaRelative,fwhm,w):\n",
    "    columnPattern = sim.columnPattern(rho,deltaRelative,gwn)\n",
    "    boldPattern,_,_ = sim.bold(fwhm,beta,columnPattern)\n",
    "    mriPattern = sim.mri(w,1+boldPattern)\n",
    "    sim.plotColumnsBoldMRI(columnPattern,boldPattern,mriPattern)"
   ]
  },
  {
   "cell_type": "code",
   "execution_count": null,
   "metadata": {
    "slideshow": {
     "slide_type": "slide"
    }
   },
   "outputs": [],
   "source": [
    "interact(f,rho=[0.1,0.2,0.4,0.8,1.6,3.2],\n",
    "      deltaRelative=[0.01, 0.25, 0.5, 0.75, 1],\n",
    "      fwhm=[0.01, 0.5, 1, 1.5, 2,2.5, 3, 3.5],\n",
    "      w=[0.25,0.5,1,1.5,2,3]);"
   ]
  },
  {
   "cell_type": "markdown",
   "metadata": {},
   "source": [
    "Set standard parameters for optimization simulation."
   ]
  },
  {
   "cell_type": "code",
   "execution_count": null,
   "metadata": {},
   "outputs": [],
   "source": [
    "parameters = columnsfmri.setParameters('irregular')\n",
    "for parameter,value in parameters.items():\n",
    "    print(parameter + \": \" + str(value))"
   ]
  },
  {
   "cell_type": "markdown",
   "metadata": {},
   "source": [
    "Run optimization simulation."
   ]
  },
  {
   "cell_type": "code",
   "execution_count": null,
   "metadata": {},
   "outputs": [],
   "source": [
    "results = columnsfmri.simulatefMRIOfColumnPatterns(parameters)"
   ]
  },
  {
   "cell_type": "markdown",
   "metadata": {},
   "source": [
    "Calculate CNR and plot as a function of voxel width."
   ]
  },
  {
   "cell_type": "code",
   "execution_count": null,
   "metadata": {},
   "outputs": [],
   "source": [
    "# wRange = parameters['wRange']\n",
    "# cnr = cr/noiseOfW\n",
    "# cnrMean = np.mean(cnr,axis=0)\n",
    "# cnrStd = np.std(cnr,axis=0)\n",
    "# cnrErrorPlus = cnrMean+2*cnrStd\n",
    "# cnrErrorMinus = cnrMean-2*cnrStd"
   ]
  },
  {
   "cell_type": "code",
   "execution_count": null,
   "metadata": {},
   "outputs": [],
   "source": [
    "# plt.plot(wRange, cnrMean)\n",
    "# plt.fill_between(wRange, cnrErrorMinus, cnrErrorPlus,alpha=0.5)\n",
    "# plt.xlabel('voxel width [mm]')\n",
    "# plt.ylabel('CNR')\n",
    "# plt.show()"
   ]
  },
  {
   "cell_type": "code",
   "execution_count": null,
   "metadata": {},
   "outputs": [],
   "source": [
    "columnsfmri.printResults(results)"
   ]
  }
 ],
 "metadata": {
  "celltoolbar": "Slideshow",
  "kernelspec": {
   "display_name": "Python 3",
   "language": "python",
   "name": "python3"
  },
  "language_info": {
   "codemirror_mode": {
    "name": "ipython",
    "version": 3
   },
   "file_extension": ".py",
   "mimetype": "text/x-python",
   "name": "python",
   "nbconvert_exporter": "python",
   "pygments_lexer": "ipython3",
   "version": "3.6.8"
  }
 },
 "nbformat": 4,
 "nbformat_minor": 2
}
